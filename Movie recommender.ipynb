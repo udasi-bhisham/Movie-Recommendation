{
    "metadata": {
        "language_info": {
            "codemirror_mode": {
                "name": "ipython", 
                "version": 2
            }, 
            "file_extension": ".py", 
            "version": "2.7.11", 
            "name": "python", 
            "mimetype": "text/x-python", 
            "nbconvert_exporter": "python", 
            "pygments_lexer": "ipython2"
        }, 
        "kernelspec": {
            "display_name": "Python 2 with Spark 2.0", 
            "name": "python2-spark20", 
            "language": "python"
        }
    }, 
    "nbformat": 4, 
    "cells": [
        {
            "source": "# The code was removed by DSX for sharing.", 
            "metadata": {
                "collapsed": true
            }, 
            "execution_count": 10, 
            "cell_type": "code", 
            "outputs": []
        }, 
        {
            "source": "# Column names available in the readme file\n\n# Reading Users Files\nu_cols= ['user_id','age','sex','occupation','zip_code']\nusers = pd.read_csv(get_object_storage_file_with_credentials_b4cdc88cfd6a45639b323acbc9bab667('BhishamsEarth', 'u.csv'), sep='|', names=u_cols, encoding='latin-1')\nusers.head(10)\ndf_data_1 = pd.read_csv(get_object_storage_file_with_credentials_b4cdc88cfd6a45639b323acbc9bab667('BhishamsEarth', 'u.data.csv'))\ndf_data_1.head()\n", 
            "metadata": {}, 
            "execution_count": 12, 
            "cell_type": "code", 
            "outputs": [
                {
                    "data": {
                        "text/html": "<div>\n<table border=\"1\" class=\"dataframe\">\n  <thead>\n    <tr style=\"text-align: right;\">\n      <th></th>\n      <th>user_id</th>\n      <th>age</th>\n      <th>sex</th>\n      <th>occupation</th>\n      <th>zip_code</th>\n    </tr>\n  </thead>\n  <tbody>\n    <tr>\n      <th>0</th>\n      <td>1</td>\n      <td>24</td>\n      <td>M</td>\n      <td>technician</td>\n      <td>85711</td>\n    </tr>\n    <tr>\n      <th>1</th>\n      <td>2</td>\n      <td>53</td>\n      <td>F</td>\n      <td>other</td>\n      <td>94043</td>\n    </tr>\n    <tr>\n      <th>2</th>\n      <td>3</td>\n      <td>23</td>\n      <td>M</td>\n      <td>writer</td>\n      <td>32067</td>\n    </tr>\n    <tr>\n      <th>3</th>\n      <td>4</td>\n      <td>24</td>\n      <td>M</td>\n      <td>technician</td>\n      <td>43537</td>\n    </tr>\n    <tr>\n      <th>4</th>\n      <td>5</td>\n      <td>33</td>\n      <td>F</td>\n      <td>other</td>\n      <td>15213</td>\n    </tr>\n    <tr>\n      <th>5</th>\n      <td>6</td>\n      <td>42</td>\n      <td>M</td>\n      <td>executive</td>\n      <td>98101</td>\n    </tr>\n    <tr>\n      <th>6</th>\n      <td>7</td>\n      <td>57</td>\n      <td>M</td>\n      <td>administrator</td>\n      <td>91344</td>\n    </tr>\n    <tr>\n      <th>7</th>\n      <td>8</td>\n      <td>36</td>\n      <td>M</td>\n      <td>administrator</td>\n      <td>05201</td>\n    </tr>\n    <tr>\n      <th>8</th>\n      <td>9</td>\n      <td>29</td>\n      <td>M</td>\n      <td>student</td>\n      <td>01002</td>\n    </tr>\n    <tr>\n      <th>9</th>\n      <td>10</td>\n      <td>53</td>\n      <td>M</td>\n      <td>lawyer</td>\n      <td>90703</td>\n    </tr>\n  </tbody>\n</table>\n</div>", 
                        "text/plain": "   user_id  age sex     occupation zip_code\n0        1   24   M     technician    85711\n1        2   53   F          other    94043\n2        3   23   M         writer    32067\n3        4   24   M     technician    43537\n4        5   33   F          other    15213\n5        6   42   M      executive    98101\n6        7   57   M  administrator    91344\n7        8   36   M  administrator    05201\n8        9   29   M        student    01002\n9       10   53   M         lawyer    90703"
                    }, 
                    "metadata": {}, 
                    "execution_count": 12, 
                    "output_type": "execute_result"
                }
            ]
        }, 
        {
            "source": "\n#Reading ratings file:\nr_cols = ['user_id', 'movie_id', 'rating', 'unix_timestamp']\nratings = pd.read_csv(get_object_storage_file_with_credentials_b4cdc88cfd6a45639b323acbc9bab667('BhishamsEarth', 'u.data.csv'), sep='\\t', names=r_cols,\n encoding='latin-1')\nratings.head()", 
            "metadata": {}, 
            "execution_count": 13, 
            "cell_type": "code", 
            "outputs": [
                {
                    "data": {
                        "text/html": "<div>\n<table border=\"1\" class=\"dataframe\">\n  <thead>\n    <tr style=\"text-align: right;\">\n      <th></th>\n      <th>user_id</th>\n      <th>movie_id</th>\n      <th>rating</th>\n      <th>unix_timestamp</th>\n    </tr>\n  </thead>\n  <tbody>\n    <tr>\n      <th>0</th>\n      <td>196</td>\n      <td>242</td>\n      <td>3</td>\n      <td>881250949</td>\n    </tr>\n    <tr>\n      <th>1</th>\n      <td>186</td>\n      <td>302</td>\n      <td>3</td>\n      <td>891717742</td>\n    </tr>\n    <tr>\n      <th>2</th>\n      <td>22</td>\n      <td>377</td>\n      <td>1</td>\n      <td>878887116</td>\n    </tr>\n    <tr>\n      <th>3</th>\n      <td>244</td>\n      <td>51</td>\n      <td>2</td>\n      <td>880606923</td>\n    </tr>\n    <tr>\n      <th>4</th>\n      <td>166</td>\n      <td>346</td>\n      <td>1</td>\n      <td>886397596</td>\n    </tr>\n  </tbody>\n</table>\n</div>", 
                        "text/plain": "   user_id  movie_id  rating  unix_timestamp\n0      196       242       3       881250949\n1      186       302       3       891717742\n2       22       377       1       878887116\n3      244        51       2       880606923\n4      166       346       1       886397596"
                    }, 
                    "metadata": {}, 
                    "execution_count": 13, 
                    "output_type": "execute_result"
                }
            ]
        }, 
        {
            "source": "#Reading items file:\ni_cols = ['movie id', 'movie title' ,'release date','video release date', 'IMDb URL', 'unknown', 'Action', 'Adventure',\n 'Animation', 'Children\\'s', 'Comedy', 'Crime', 'Documentary', 'Drama', 'Fantasy',\n 'Film-Noir', 'Horror', 'Musical', 'Mystery', 'Romance', 'Sci-Fi', 'Thriller', 'War', 'Western']\nitems = pd.read_csv(get_object_storage_file_with_credentials_b4cdc88cfd6a45639b323acbc9bab667('BhishamsEarth', 'u.item.csv'), sep='|', names=i_cols,\n encoding='latin-1')\nitems.head()", 
            "metadata": {}, 
            "execution_count": 15, 
            "cell_type": "code", 
            "outputs": [
                {
                    "data": {
                        "text/html": "<div>\n<table border=\"1\" class=\"dataframe\">\n  <thead>\n    <tr style=\"text-align: right;\">\n      <th></th>\n      <th>movie id</th>\n      <th>movie title</th>\n      <th>release date</th>\n      <th>video release date</th>\n      <th>IMDb URL</th>\n      <th>unknown</th>\n      <th>Action</th>\n      <th>Adventure</th>\n      <th>Animation</th>\n      <th>Children's</th>\n      <th>...</th>\n      <th>Fantasy</th>\n      <th>Film-Noir</th>\n      <th>Horror</th>\n      <th>Musical</th>\n      <th>Mystery</th>\n      <th>Romance</th>\n      <th>Sci-Fi</th>\n      <th>Thriller</th>\n      <th>War</th>\n      <th>Western</th>\n    </tr>\n  </thead>\n  <tbody>\n    <tr>\n      <th>0</th>\n      <td>1</td>\n      <td>Toy Story (1995)</td>\n      <td>01-Jan-1995</td>\n      <td>NaN</td>\n      <td>http://us.imdb.com/M/title-exact?Toy%20Story%2...</td>\n      <td>0</td>\n      <td>0</td>\n      <td>0</td>\n      <td>1</td>\n      <td>1</td>\n      <td>...</td>\n      <td>0</td>\n      <td>0</td>\n      <td>0</td>\n      <td>0</td>\n      <td>0</td>\n      <td>0</td>\n      <td>0</td>\n      <td>0</td>\n      <td>0</td>\n      <td>0</td>\n    </tr>\n    <tr>\n      <th>1</th>\n      <td>2</td>\n      <td>GoldenEye (1995)</td>\n      <td>01-Jan-1995</td>\n      <td>NaN</td>\n      <td>http://us.imdb.com/M/title-exact?GoldenEye%20(...</td>\n      <td>0</td>\n      <td>1</td>\n      <td>1</td>\n      <td>0</td>\n      <td>0</td>\n      <td>...</td>\n      <td>0</td>\n      <td>0</td>\n      <td>0</td>\n      <td>0</td>\n      <td>0</td>\n      <td>0</td>\n      <td>0</td>\n      <td>1</td>\n      <td>0</td>\n      <td>0</td>\n    </tr>\n    <tr>\n      <th>2</th>\n      <td>3</td>\n      <td>Four Rooms (1995)</td>\n      <td>01-Jan-1995</td>\n      <td>NaN</td>\n      <td>http://us.imdb.com/M/title-exact?Four%20Rooms%...</td>\n      <td>0</td>\n      <td>0</td>\n      <td>0</td>\n      <td>0</td>\n      <td>0</td>\n      <td>...</td>\n      <td>0</td>\n      <td>0</td>\n      <td>0</td>\n      <td>0</td>\n      <td>0</td>\n      <td>0</td>\n      <td>0</td>\n      <td>1</td>\n      <td>0</td>\n      <td>0</td>\n    </tr>\n    <tr>\n      <th>3</th>\n      <td>4</td>\n      <td>Get Shorty (1995)</td>\n      <td>01-Jan-1995</td>\n      <td>NaN</td>\n      <td>http://us.imdb.com/M/title-exact?Get%20Shorty%...</td>\n      <td>0</td>\n      <td>1</td>\n      <td>0</td>\n      <td>0</td>\n      <td>0</td>\n      <td>...</td>\n      <td>0</td>\n      <td>0</td>\n      <td>0</td>\n      <td>0</td>\n      <td>0</td>\n      <td>0</td>\n      <td>0</td>\n      <td>0</td>\n      <td>0</td>\n      <td>0</td>\n    </tr>\n    <tr>\n      <th>4</th>\n      <td>5</td>\n      <td>Copycat (1995)</td>\n      <td>01-Jan-1995</td>\n      <td>NaN</td>\n      <td>http://us.imdb.com/M/title-exact?Copycat%20(1995)</td>\n      <td>0</td>\n      <td>0</td>\n      <td>0</td>\n      <td>0</td>\n      <td>0</td>\n      <td>...</td>\n      <td>0</td>\n      <td>0</td>\n      <td>0</td>\n      <td>0</td>\n      <td>0</td>\n      <td>0</td>\n      <td>0</td>\n      <td>1</td>\n      <td>0</td>\n      <td>0</td>\n    </tr>\n  </tbody>\n</table>\n<p>5 rows \u00d7 24 columns</p>\n</div>", 
                        "text/plain": "   movie id        movie title release date  video release date  \\\n0         1   Toy Story (1995)  01-Jan-1995                 NaN   \n1         2   GoldenEye (1995)  01-Jan-1995                 NaN   \n2         3  Four Rooms (1995)  01-Jan-1995                 NaN   \n3         4  Get Shorty (1995)  01-Jan-1995                 NaN   \n4         5     Copycat (1995)  01-Jan-1995                 NaN   \n\n                                            IMDb URL  unknown  Action  \\\n0  http://us.imdb.com/M/title-exact?Toy%20Story%2...        0       0   \n1  http://us.imdb.com/M/title-exact?GoldenEye%20(...        0       1   \n2  http://us.imdb.com/M/title-exact?Four%20Rooms%...        0       0   \n3  http://us.imdb.com/M/title-exact?Get%20Shorty%...        0       1   \n4  http://us.imdb.com/M/title-exact?Copycat%20(1995)        0       0   \n\n   Adventure  Animation  Children's   ...     Fantasy  Film-Noir  Horror  \\\n0          0          1           1   ...           0          0       0   \n1          1          0           0   ...           0          0       0   \n2          0          0           0   ...           0          0       0   \n3          0          0           0   ...           0          0       0   \n4          0          0           0   ...           0          0       0   \n\n   Musical  Mystery  Romance  Sci-Fi  Thriller  War  Western  \n0        0        0        0       0         0    0        0  \n1        0        0        0       0         1    0        0  \n2        0        0        0       0         1    0        0  \n3        0        0        0       0         0    0        0  \n4        0        0        0       0         1    0        0  \n\n[5 rows x 24 columns]"
                    }, 
                    "metadata": {}, 
                    "execution_count": 15, 
                    "output_type": "execute_result"
                }
            ]
        }, 
        {
            "source": "print users.shape\nprint ratings.shape\nprint items.shape", 
            "metadata": {}, 
            "execution_count": 16, 
            "cell_type": "code", 
            "outputs": [
                {
                    "name": "stdout", 
                    "output_type": "stream", 
                    "text": "(943, 5)\n(100000, 4)\n(1682, 24)\n"
                }
            ]
        }, 
        {
            "source": "import numpy as np", 
            "metadata": {}, 
            "execution_count": 19, 
            "cell_type": "code", 
            "outputs": []
        }, 
        {
            "source": "from sklearn import cross_validation as cv\ntrain_data, test_data = cv.train_test_split(ratings, test_size=0.20)", 
            "metadata": {
                "collapsed": true
            }, 
            "execution_count": 22, 
            "cell_type": "code", 
            "outputs": []
        }, 
        {
            "source": "print train_data.shape, test_data.shape", 
            "metadata": {}, 
            "execution_count": 23, 
            "cell_type": "code", 
            "outputs": [
                {
                    "name": "stdout", 
                    "output_type": "stream", 
                    "text": "(80000, 4) (20000, 4)\n"
                }
            ]
        }, 
        {
            "source": "n_users = ratings.user_id.unique().shape[0]\nn_items = ratings.movie_id.unique().shape[0]\nprint 'Number of users = ' + str(n_users) + ' | Number of movies = ' + str(n_items)", 
            "metadata": {}, 
            "execution_count": 25, 
            "cell_type": "code", 
            "outputs": [
                {
                    "name": "stdout", 
                    "output_type": "stream", 
                    "text": "Number of users = 943 | Number of movies = 1682\n"
                }
            ]
        }, 
        {
            "source": "#Create two user-item matrices, one for training and another for testing\ntrain_data_matrix = np.zeros((n_users, n_items))\nfor line in train_data.itertuples():\n    train_data_matrix[line[1]-1, line[2]-1] = line[3]\nprint train_data_matrix.shape", 
            "metadata": {}, 
            "execution_count": 31, 
            "cell_type": "code", 
            "outputs": [
                {
                    "name": "stdout", 
                    "output_type": "stream", 
                    "text": "(943, 1682)\n"
                }
            ]
        }, 
        {
            "source": "test_data_matrix= np.zeros((n_users, n_items))\nfor line in test_data.itertuples():\n    test_data_matrix[line[1]-1, line[2]-1]=line[3]\nprint test_data_matrix", 
            "metadata": {}, 
            "execution_count": 33, 
            "cell_type": "code", 
            "outputs": [
                {
                    "name": "stdout", 
                    "output_type": "stream", 
                    "text": "[[ 0.  3.  0. ...,  0.  0.  0.]\n [ 0.  0.  0. ...,  0.  0.  0.]\n [ 0.  0.  0. ...,  0.  0.  0.]\n ..., \n [ 0.  0.  0. ...,  0.  0.  0.]\n [ 0.  0.  0. ...,  0.  0.  0.]\n [ 0.  0.  0. ...,  0.  0.  0.]]\n"
                }
            ]
        }, 
        {
            "source": "from sklearn.metrics.pairwise import pairwise_distances\nuser_similarity = pairwise_distances(train_data_matrix, metric='cosine')\nitem_similarity = pairwise_distances(train_data_matrix.T, metric='cosine')", 
            "metadata": {
                "collapsed": true
            }, 
            "execution_count": 34, 
            "cell_type": "code", 
            "outputs": []
        }, 
        {
            "source": "def predict(ratings, similarity, type='user'):\n    if type == 'user':\n        mean_user_rating = ratings.mean(axis=1)\n        #You use np.newaxis so that mean_user_rating has same format as ratings\n        ratings_diff = (ratings - mean_user_rating[:, np.newaxis])\n        pred = mean_user_rating[:, np.newaxis] + similarity.dot(ratings_diff) / np.array([np.abs(similarity).sum(axis=1)]).T\n    elif type == 'item':\n        pred = ratings.dot(similarity) / np.array([np.abs(similarity).sum(axis=1)])\n    return pred", 
            "metadata": {}, 
            "execution_count": 36, 
            "cell_type": "code", 
            "outputs": []
        }, 
        {
            "source": "item_prediction = predict(train_data_matrix, item_similarity, type='item')\nuser_prediction = predict(train_data_matrix, user_similarity, type='user')", 
            "metadata": {
                "collapsed": true
            }, 
            "execution_count": 37, 
            "cell_type": "code", 
            "outputs": []
        }, 
        {
            "source": "from sklearn.metrics import mean_squared_error\nfrom math import sqrt\ndef rmse(prediction, ground_truth):\n    prediction = prediction[ground_truth.nonzero()].flatten()\n    ground_truth = ground_truth[ground_truth.nonzero()].flatten()\n    return sqrt(mean_squared_error(prediction, ground_truth))", 
            "metadata": {
                "collapsed": true
            }, 
            "execution_count": 40, 
            "cell_type": "code", 
            "outputs": []
        }, 
        {
            "source": "print 'User-based CF RMSE: ' + str(rmse(user_prediction, test_data_matrix))\nprint 'Item-based CF RMSE: ' + str(rmse(item_prediction, test_data_matrix))", 
            "metadata": {}, 
            "execution_count": 41, 
            "cell_type": "code", 
            "outputs": [
                {
                    "name": "stdout", 
                    "output_type": "stream", 
                    "text": "User-based CF RMSE: 3.09902405101\nItem-based CF RMSE: 3.44521768162\n"
                }
            ]
        }, 
        {
            "source": "", 
            "metadata": {
                "collapsed": true
            }, 
            "execution_count": null, 
            "cell_type": "code", 
            "outputs": []
        }, 
        {
            "source": "", 
            "metadata": {
                "collapsed": true
            }, 
            "execution_count": null, 
            "cell_type": "code", 
            "outputs": []
        }
    ], 
    "nbformat_minor": 1
}